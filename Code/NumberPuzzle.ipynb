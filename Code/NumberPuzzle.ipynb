{
 "metadata": {
  "language_info": {
   "codemirror_mode": {
    "name": "ipython",
    "version": 3
   },
   "file_extension": ".py",
   "mimetype": "text/x-python",
   "name": "python",
   "nbconvert_exporter": "python",
   "pygments_lexer": "ipython3",
   "version": "3.6.9-final"
  },
  "orig_nbformat": 2,
  "kernelspec": {
   "name": "python3",
   "display_name": "Python 3",
   "language": "python"
  }
 },
 "nbformat": 4,
 "nbformat_minor": 2,
 "cells": [
  {
   "cell_type": "code",
   "execution_count": 1,
   "metadata": {},
   "outputs": [],
   "source": [
    "import numpy as np"
   ]
  },
  {
   "cell_type": "code",
   "execution_count": 38,
   "metadata": {},
   "outputs": [],
   "source": [
    "class Node():\n",
    "    def __init__(self, state, parent, move, cost): \n",
    "\n",
    "        self.state = state\n",
    "        #self.goal = goal_state\n",
    "        self.parent = parent\n",
    "        self.move = move\n",
    "        self.cost = cost\n",
    "        \n",
    "    def getState(self):\n",
    "        return self.state\n",
    "\t\t\n",
    "    def getParent(self):\n",
    "        return self.parent\n",
    "\t\t\n",
    "    def getMove(self):\n",
    "\t    return self.move\n",
    "\t\t\n",
    "    def getCost(self):\n",
    "        return self.cost\n",
    "\n",
    "    def getFullPath(self):\n",
    "        \n",
    "        moves = []\n",
    "        current_node = self\n",
    "        while(current_node.getMove() is not None):\n",
    "\n",
    "            moves.append(current_node.getMove())\n",
    "            print(current_node.getMove())\n",
    "            current_node = current_node.getParent()\n",
    "\n",
    "        moves.reverse()\n",
    "        return moves\n",
    "\n"
   ]
  },
  {
   "cell_type": "code",
   "execution_count": 3,
   "metadata": {},
   "outputs": [],
   "source": [
    "def getBranches(node):\n",
    "\n",
    "    moves = [\"up\", \"down\", \"left\", \"right\"]\n",
    "    branches = []\n",
    "    branches.append(Node(moveUp(node.getState()), node, moves[0], node.getCost() + 1))\n",
    "    branches.append(Node(moveDown(node.getState()), node, moves[1], node.getCost() + 1))\n",
    "    branches.append(Node(moveRight(node.getState()), node, moves[2], node.getCost() + 1))\n",
    "    branches.append(Node(moveLeft(node.getState()), node, moves[3], node.getCost() + 1))\n",
    "\n",
    "    #remove None nodes\n",
    "    b = [branch for branch in branches if branch.getState() is not None]\n",
    "            \n",
    "    return b\n",
    "\n"
   ]
  },
  {
   "cell_type": "code",
   "execution_count": 4,
   "metadata": {},
   "outputs": [],
   "source": [
    "def moveUp(state):\n",
    "\n",
    "    state_copy = state.copy()\n",
    "    position = np.where(state_copy == 0)\n",
    "    position = int(position[0])\n",
    "\n",
    "    num_cols = 3\n",
    " \n",
    "    if position not in [0, 1, 2]:\n",
    "        #can move up\n",
    "        #swap with the upper row\n",
    "        tmp = state[position]\n",
    "        state_copy[position] = state_copy[position - num_cols]\n",
    "        state_copy[position - num_cols] = tmp\n",
    "        return state_copy\n",
    "    else:\n",
    "        return None\n",
    "\n",
    "def moveDown(state):\n",
    "    state_copy = state.copy()\n",
    "    position = np.where(state_copy == 0)\n",
    "    position = int(position[0])\n",
    "\n",
    "    num_cols = 3\n",
    "    \n",
    "    if position not in [6, 7, 8]:\n",
    "        #can move down\n",
    "        #swap with the lower row\n",
    "        tmp = state[position]\n",
    "        state_copy[position] = state_copy[position + num_cols]\n",
    "        state_copy[position + num_cols] = tmp\n",
    "        return state_copy\n",
    "    else:\n",
    "        return None\n",
    "\n",
    "def moveRight(state):\n",
    "    state_copy = state.copy()\n",
    "    position = np.where(state_copy == 0)\n",
    "    position = int(position[0])\n",
    "\n",
    "    if position not in [2, 5, 8]:\n",
    "        #can move right\n",
    "        #swap with the reft col\n",
    "        tmp = state_copy[position]\n",
    "        state_copy[position] = state_copy[position + 1]\n",
    "        state_copy[position + 1] = tmp\n",
    "        return state_copy\n",
    "    else:\n",
    "        return None\n",
    "\n",
    "def moveLeft(state):\n",
    "    state_copy = state.copy()\n",
    "    position = np.where(state_copy == 0)\n",
    "    position = int(position[0])\n",
    "    #num_rows = 3 \n",
    "    if position not in [0, 3, 6]:\n",
    "        #can move left\n",
    "        #swap with the left col\n",
    "        tmp = state_copy[position]\n",
    "        state_copy[position] = state_copy[position - 1]\n",
    "        state_copy[position - 1] = tmp\n",
    "        return state_copy\n",
    "    else:\n",
    "        return None"
   ]
  },
  {
   "cell_type": "code",
   "execution_count": 25,
   "metadata": {},
   "outputs": [],
   "source": [
    "def bfsSearch(init_state, goal_state):\n",
    "\n",
    "    nodes = list()\n",
    "    visited_states = list()\n",
    "\n",
    "    init_node = Node(init_state, 0, None, 0)\n",
    "    nodes.append(init_node)\n",
    "\n",
    "    while(True):\n",
    "\n",
    "        current_node = nodes.pop()\n",
    "        visited_states.append(current_node.getState())\n",
    "\n",
    "        if np.all(current_node.state == goal_state):\n",
    "            print(\"Goal Reached!\")\n",
    "            full_path = current_node.getFullPath()\n",
    "            return full_path\n",
    "\n",
    "        else:\n",
    "\n",
    "            branches = getBranches(current_node)\n",
    "            for branch in branches:\n",
    "                print(branch.getState())\n",
    "    \n",
    "\n",
    "            for branch in branches:\n",
    "                branch_state = branch.getState()\n",
    "                \n",
    "                for visited_state in visited_states:\n",
    "                    if not np.all(branch_state == visited_state):\n",
    "                        nodes.insert(0, branch)"
   ]
  },
  {
   "cell_type": "code",
   "execution_count": 42,
   "metadata": {},
   "outputs": [],
   "source": [
    "def main():\n",
    "    #get inital state\n",
    "    initial_state = np.array([1, 4, 2, 3, 0, 5, 6, 7, 8])\n",
    "    #get goal state\n",
    "    goal_state = np.array([0, 1, 2, 3, 4, 5, 6, 7, 8])\n",
    "    print(\"initial state is: \", initial_state)\n",
    "    print(\"goal state is: \", initial_state)\n",
    "    path = bfsSearch(initial_state, goal_state)\n",
    "    print(path)\n"
   ]
  },
  {
   "cell_type": "code",
   "execution_count": 43,
   "metadata": {},
   "outputs": [
    {
     "output_type": "stream",
     "name": "stdout",
     "text": [
      "initial state is:  [1 4 2 3 0 5 6 7 8]\ngoal state is:  [1 4 2 3 0 5 6 7 8]\n[1 0 2 3 4 5 6 7 8]\n[1 4 2 3 7 5 6 0 8]\n[1 4 2 3 5 0 6 7 8]\n[1 4 2 0 3 5 6 7 8]\n[1 4 2 3 0 5 6 7 8]\n[1 2 0 3 4 5 6 7 8]\n[0 1 2 3 4 5 6 7 8]\n[1 4 2 3 0 5 6 7 8]\n[1 4 2 3 7 5 6 8 0]\n[1 4 2 3 7 5 0 6 8]\n[1 4 0 3 5 2 6 7 8]\n[1 4 2 3 5 8 6 7 0]\n[1 4 2 3 0 5 6 7 8]\n[0 4 2 1 3 5 6 7 8]\n[1 4 2 6 3 5 0 7 8]\n[1 4 2 3 0 5 6 7 8]\n[1 0 2 3 4 5 6 7 8]\n[1 4 2 3 7 5 6 0 8]\n[1 4 2 3 5 0 6 7 8]\n[1 4 2 0 3 5 6 7 8]\n[1 2 5 3 4 0 6 7 8]\n[1 0 2 3 4 5 6 7 8]\n[1 2 5 3 4 0 6 7 8]\n[1 0 2 3 4 5 6 7 8]\nGoal Reached!\nright\nup\n['up', 'right']\n"
     ]
    }
   ],
   "source": [
    "if __name__ == \"__main__\":\n",
    "    main()"
   ]
  },
  {
   "cell_type": "code",
   "execution_count": 40,
   "metadata": {},
   "outputs": [
    {
     "output_type": "stream",
     "name": "stdout",
     "text": [
      "initial state is:  [1 0 2 3 4 5 6 7 8]\ngoal state is:  [0 1 2 3 4 5 6 7 8]\n[1 4 2 3 0 5 6 7 8]\n[1 2 0 3 4 5 6 7 8]\n[0 1 2 3 4 5 6 7 8]\n[1 0 2 3 4 5 6 7 8]\n[1 4 2 3 7 5 6 0 8]\n[1 4 2 3 5 0 6 7 8]\n[1 4 2 0 3 5 6 7 8]\n[1 2 5 3 4 0 6 7 8]\n[1 0 2 3 4 5 6 7 8]\nGoal Reached!\nright\n['right']\n"
     ]
    }
   ],
   "source": [
    "#get inital state\n",
    "initial_state = np.array([1, 0, 2, 3, 4, 5, 6, 7, 8])\n",
    "#get goal state\n",
    "goal_state = np.array([0, 1, 2, 3, 4, 5, 6, 7, 8])\n",
    "print(\"initial state is: \", initial_state)\n",
    "print(\"goal state is: \", goal_state)\n",
    "path = bfsSearch(initial_state, goal_state)\n",
    "print(path)"
   ]
  },
  {
   "cell_type": "code",
   "execution_count": 36,
   "metadata": {},
   "outputs": [
    {
     "output_type": "execute_result",
     "data": {
      "text/plain": [
       "numpy.ndarray"
      ]
     },
     "metadata": {},
     "execution_count": 36
    }
   ],
   "source": [
    "type(goal_state)"
   ]
  },
  {
   "cell_type": "code",
   "execution_count": 4,
   "metadata": {},
   "outputs": [],
   "source": [
    "visited_states = list()"
   ]
  },
  {
   "cell_type": "code",
   "execution_count": 4,
   "metadata": {},
   "outputs": [],
   "source": [
    "visited_states.append(initial_state)\n",
    "visited_states.append(initial_state)"
   ]
  },
  {
   "cell_type": "code",
   "execution_count": 23,
   "metadata": {},
   "outputs": [
    {
     "output_type": "error",
     "ename": "SyntaxError",
     "evalue": "invalid syntax (<ipython-input-23-239810a5870e>, line 1)",
     "traceback": [
      "\u001b[0;36m  File \u001b[0;32m\"<ipython-input-23-239810a5870e>\"\u001b[0;36m, line \u001b[0;32m1\u001b[0m\n\u001b[0;31m    if np.any(goal_state is in visited_states):\u001b[0m\n\u001b[0m                             ^\u001b[0m\n\u001b[0;31mSyntaxError\u001b[0m\u001b[0;31m:\u001b[0m invalid syntax\n"
     ]
    }
   ],
   "source": [
    "if np.any(visited_state in visited_states):\n",
    "    print(\"yes\")\n",
    "else:\n",
    "    print(\"no\")"
   ]
  },
  {
   "cell_type": "code",
   "execution_count": 16,
   "metadata": {},
   "outputs": [
    {
     "output_type": "execute_result",
     "data": {
      "text/plain": [
       "0"
      ]
     },
     "metadata": {},
     "execution_count": 16
    }
   ],
   "source": [
    "visited_states.index(initial_state)"
   ]
  },
  {
   "cell_type": "code",
   "execution_count": 5,
   "metadata": {},
   "outputs": [],
   "source": [
    "init_node = Node(initial_state, None, None, 0)"
   ]
  },
  {
   "cell_type": "code",
   "execution_count": 7,
   "metadata": {},
   "outputs": [],
   "source": [
    "visited_states.append(init_node.getState())"
   ]
  },
  {
   "cell_type": "code",
   "execution_count": 14,
   "metadata": {},
   "outputs": [
    {
     "output_type": "error",
     "ename": "ValueError",
     "evalue": "The truth value of an array with more than one element is ambiguous. Use a.any() or a.all()",
     "traceback": [
      "\u001b[0;31m---------------------------------------------------------------------------\u001b[0m",
      "\u001b[0;31mValueError\u001b[0m                                Traceback (most recent call last)",
      "\u001b[0;32m<ipython-input-14-bd10bc380e44>\u001b[0m in \u001b[0;36m<module>\u001b[0;34m\u001b[0m\n\u001b[0;32m----> 1\u001b[0;31m \u001b[0;32mif\u001b[0m \u001b[0mvisited_states\u001b[0m \u001b[0;32min\u001b[0m \u001b[0mvisited_states\u001b[0m\u001b[0;34m:\u001b[0m\u001b[0;34m\u001b[0m\u001b[0;34m\u001b[0m\u001b[0m\n\u001b[0m\u001b[1;32m      2\u001b[0m     \u001b[0mprint\u001b[0m\u001b[0;34m(\u001b[0m\u001b[0;34m\"yes\"\u001b[0m\u001b[0;34m)\u001b[0m\u001b[0;34m\u001b[0m\u001b[0;34m\u001b[0m\u001b[0m\n",
      "\u001b[0;31mValueError\u001b[0m: The truth value of an array with more than one element is ambiguous. Use a.any() or a.all()"
     ]
    }
   ],
   "source": [
    "if visited_states in visited_states:\n",
    "    print(\"yes\")"
   ]
  },
  {
   "cell_type": "code",
   "execution_count": 12,
   "metadata": {},
   "outputs": [
    {
     "output_type": "execute_result",
     "data": {
      "text/plain": [
       "[array([1, 0, 2, 3, 4, 5, 6, 7, 8]), array([1, 0, 2, 3, 4, 5, 6, 7, 8])]"
      ]
     },
     "metadata": {},
     "execution_count": 12
    }
   ],
   "source": [
    "visited_states"
   ]
  },
  {
   "cell_type": "code",
   "execution_count": 13,
   "metadata": {},
   "outputs": [
    {
     "output_type": "execute_result",
     "data": {
      "text/plain": [
       "array([1, 0, 2, 3, 4, 5, 6, 7, 8])"
      ]
     },
     "metadata": {},
     "execution_count": 13
    }
   ],
   "source": [
    "init_node.getState()"
   ]
  },
  {
   "cell_type": "code",
   "execution_count": 15,
   "metadata": {},
   "outputs": [
    {
     "output_type": "error",
     "ename": "ValueError",
     "evalue": "The truth value of an array with more than one element is ambiguous. Use a.any() or a.all()",
     "traceback": [
      "\u001b[0;31m---------------------------------------------------------------------------\u001b[0m",
      "\u001b[0;31mValueError\u001b[0m                                Traceback (most recent call last)",
      "\u001b[0;32m<ipython-input-15-74bd9bdd07ce>\u001b[0m in \u001b[0;36m<module>\u001b[0;34m\u001b[0m\n\u001b[0;32m----> 1\u001b[0;31m \u001b[0mvisited_states\u001b[0m \u001b[0;32min\u001b[0m \u001b[0mvisited_states\u001b[0m\u001b[0;34m\u001b[0m\u001b[0;34m\u001b[0m\u001b[0m\n\u001b[0m",
      "\u001b[0;31mValueError\u001b[0m: The truth value of an array with more than one element is ambiguous. Use a.any() or a.all()"
     ]
    }
   ],
   "source": [
    "visited_states in visited_states"
   ]
  },
  {
   "cell_type": "code",
   "execution_count": null,
   "metadata": {},
   "outputs": [],
   "source": []
  }
 ]
}