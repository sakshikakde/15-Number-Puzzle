{
 "metadata": {
  "language_info": {
   "codemirror_mode": {
    "name": "ipython",
    "version": 3
   },
   "file_extension": ".py",
   "mimetype": "text/x-python",
   "name": "python",
   "nbconvert_exporter": "python",
   "pygments_lexer": "ipython3",
   "version": "3.6.9-final"
  },
  "orig_nbformat": 2,
  "kernelspec": {
   "name": "python3",
   "display_name": "Python 3",
   "language": "python"
  }
 },
 "nbformat": 4,
 "nbformat_minor": 2,
 "cells": [
  {
   "cell_type": "code",
   "execution_count": 1,
   "metadata": {},
   "outputs": [],
   "source": [
    "import numpy as np"
   ]
  },
  {
   "cell_type": "code",
   "execution_count": 110,
   "metadata": {},
   "outputs": [],
   "source": [
    "class Node():\n",
    "    def __init__(self, state, parent, move, cost): \n",
    "\n",
    "        self.state = state\n",
    "        #self.goal = goal_state\n",
    "        self.parent = parent\n",
    "        self.move = move\n",
    "        self.cost = cost\n",
    "        \n",
    "    def getState(self):\n",
    "        return np.array(self.state)\n",
    "\t\t\n",
    "    def getParent(self):\n",
    "        return self.parent\n",
    "\t\t\n",
    "    def getMove(self):\n",
    "\t    return self.move\n",
    "\t\t\n",
    "    def getCost(self):\n",
    "        return self.cost\n",
    "\n",
    "    def getFullPath(self):\n",
    "        \n",
    "        moves = []\n",
    "        current_node = self\n",
    "        while(current_node.getMove is not None):\n",
    "\n",
    "            moves.append(current_node.getMove)\n",
    "            current_node = current_node.getParent()\n",
    "\n",
    "        moves = moves.reverse()\n",
    "        return moves\n",
    "\n"
   ]
  },
  {
   "cell_type": "code",
   "execution_count": 56,
   "metadata": {},
   "outputs": [],
   "source": [
    "def getBranches(node):\n",
    "\n",
    "    moves = [\"up\", \"down\", \"left\", \"right\"]\n",
    "    branches = []\n",
    "    branches.append(Node(moveUp(node.getState()), node, moves[0], node.getCost() + 1))\n",
    "    branches.append(Node(moveDown(node.getState()), node, moves[1], node.getCost() + 1))\n",
    "    branches.append(Node(moveRight(node.getState()), node, moves[2], node.getCost() + 1))\n",
    "    branches.append(Node(moveLeft(node.getState()), node, moves[3], node.getCost() + 1))\n",
    "\n",
    "    #remove None nodes\n",
    "    b = [branch for branch in branches if branch.getState() is not None]\n",
    "            \n",
    "    return b\n",
    "\n"
   ]
  },
  {
   "cell_type": "code",
   "execution_count": 26,
   "metadata": {},
   "outputs": [],
   "source": [
    "def moveUp(state):\n",
    "\n",
    "    state_copy = state.copy()\n",
    "    position = np.where(state_copy == \"0\")\n",
    "    position = int(position[0])\n",
    "\n",
    "    num_cols = 3\n",
    " \n",
    "    if position not in [0, 1, 2]:\n",
    "        #can move up\n",
    "        #swap with the upper row\n",
    "        tmp = state[position]\n",
    "        state_copy[position] = state_copy[position - num_cols]\n",
    "        state_copy[position - num_cols] = tmp\n",
    "        return state_copy\n",
    "    else:\n",
    "        return None\n",
    "\n",
    "def moveDown(state):\n",
    "    state_copy = state.copy()\n",
    "    position = np.where(state_copy == \"0\")\n",
    "    position = int(position[0])\n",
    "\n",
    "    num_cols = 3\n",
    "    \n",
    "    if position not in [6, 7, 8]:\n",
    "        #can move down\n",
    "        #swap with the lower row\n",
    "        tmp = state[position]\n",
    "        state_copy[position] = state_copy[position + num_cols]\n",
    "        state_copy[position + num_cols] = tmp\n",
    "        return state_copy\n",
    "    else:\n",
    "        return None\n",
    "\n",
    "def moveRight(state):\n",
    "    state_copy = state.copy()\n",
    "    position = np.where(state_copy == \"0\")\n",
    "    position = int(position[0])\n",
    "\n",
    "    if position not in [2, 5, 8]:\n",
    "        #can move right\n",
    "        #swap with the reft col\n",
    "        tmp = state_copy[position]\n",
    "        state_copy[position] = state_copy[position + 1]\n",
    "        state_copy[position + 1] = tmp\n",
    "        return state_copy\n",
    "    else:\n",
    "        return None\n",
    "\n",
    "def moveLeft(state):\n",
    "    state_copy = state.copy()\n",
    "    position = np.where(state_copy == \"0\")\n",
    "    position = int(position[0])\n",
    "    #num_rows = 3 \n",
    "    if position not in [0, 3, 6]:\n",
    "        #can move left\n",
    "        #swap with the left col\n",
    "        tmp = state_copy[position]\n",
    "        state_copy[position] = state_copy[position - 1]\n",
    "        state_copy[position - 1] = tmp\n",
    "        return state_copy\n",
    "    else:\n",
    "        return None"
   ]
  },
  {
   "cell_type": "code",
   "execution_count": 105,
   "metadata": {},
   "outputs": [],
   "source": [
    "def bfsSearch(init_state, goal_state):\n",
    "    nodes = []\n",
    "    init_node = Node(init_state, None, None, 0)\n",
    "    nodes.append(init_node)\n",
    "\n",
    "    visited_states = list()\n",
    "\n",
    "    while(True):\n",
    "\n",
    "        current_node = nodes.pop()\n",
    "        visited_states.append(current_node.getState())\n",
    "\n",
    "        if np.all(current_node.state == goal_state):\n",
    "            print(\"Goal Reached!\")\n",
    "            full_path = current_node.getFullPath()\n",
    "            return full_path\n",
    "\n",
    "        else:\n",
    "\n",
    "            branches = getBranches(current_node)\n",
    "            for branch in branches:\n",
    "                print(branch.getState())\n",
    "    \n",
    "\n",
    "            for branch in branches:\n",
    "                branch_state = branch.getState()\n",
    "                if branch_state in visited_states:\n",
    "                    #nodes.append(branch)\n",
    "                    nodes.insert(0, branch)"
   ]
  },
  {
   "cell_type": "code",
   "execution_count": 111,
   "metadata": {},
   "outputs": [],
   "source": [
    "def main():\n",
    "    #get inital state\n",
    "    initial_state = np.array([\"1\", \"0\", \"2\", \"3\", \"4\", \"5\", \"6\", \"7\", \"8\"])\n",
    "    #get goal state\n",
    "    goal_state = np.array([\"0\", \"1\", \"2\", \"3\", \"4\", \"5\", \"6\", \"7\", \"8\"])\n",
    "    path = bfsSearch(initial_state, goal_state)\n",
    "    print(path)\n"
   ]
  },
  {
   "cell_type": "code",
   "execution_count": 112,
   "metadata": {},
   "outputs": [
    {
     "output_type": "stream",
     "name": "stdout",
     "text": [
      "None\n['1' '4' '2' '3' '0' '5' '6' '7' '8']\n['1' '2' '0' '3' '4' '5' '6' '7' '8']\n['0' '1' '2' '3' '4' '5' '6' '7' '8']\n"
     ]
    },
    {
     "output_type": "error",
     "ename": "ValueError",
     "evalue": "The truth value of an array with more than one element is ambiguous. Use a.any() or a.all()",
     "traceback": [
      "\u001b[0;31m---------------------------------------------------------------------------\u001b[0m",
      "\u001b[0;31mValueError\u001b[0m                                Traceback (most recent call last)",
      "\u001b[0;32m<ipython-input-112-972361fa1b80>\u001b[0m in \u001b[0;36m<module>\u001b[0;34m\u001b[0m\n\u001b[1;32m      1\u001b[0m \u001b[0;32mif\u001b[0m \u001b[0m__name__\u001b[0m \u001b[0;34m==\u001b[0m \u001b[0;34m\"__main__\"\u001b[0m\u001b[0;34m:\u001b[0m\u001b[0;34m\u001b[0m\u001b[0;34m\u001b[0m\u001b[0m\n\u001b[0;32m----> 2\u001b[0;31m     \u001b[0mmain\u001b[0m\u001b[0;34m(\u001b[0m\u001b[0;34m)\u001b[0m\u001b[0;34m\u001b[0m\u001b[0;34m\u001b[0m\u001b[0m\n\u001b[0m",
      "\u001b[0;32m<ipython-input-111-c5f8304b3e1d>\u001b[0m in \u001b[0;36mmain\u001b[0;34m()\u001b[0m\n\u001b[1;32m      4\u001b[0m     \u001b[0;31m#get goal state\u001b[0m\u001b[0;34m\u001b[0m\u001b[0;34m\u001b[0m\u001b[0;34m\u001b[0m\u001b[0m\n\u001b[1;32m      5\u001b[0m     \u001b[0mgoal_state\u001b[0m \u001b[0;34m=\u001b[0m \u001b[0mnp\u001b[0m\u001b[0;34m.\u001b[0m\u001b[0marray\u001b[0m\u001b[0;34m(\u001b[0m\u001b[0;34m[\u001b[0m\u001b[0;34m\"0\"\u001b[0m\u001b[0;34m,\u001b[0m \u001b[0;34m\"1\"\u001b[0m\u001b[0;34m,\u001b[0m \u001b[0;34m\"2\"\u001b[0m\u001b[0;34m,\u001b[0m \u001b[0;34m\"3\"\u001b[0m\u001b[0;34m,\u001b[0m \u001b[0;34m\"4\"\u001b[0m\u001b[0;34m,\u001b[0m \u001b[0;34m\"5\"\u001b[0m\u001b[0;34m,\u001b[0m \u001b[0;34m\"6\"\u001b[0m\u001b[0;34m,\u001b[0m \u001b[0;34m\"7\"\u001b[0m\u001b[0;34m,\u001b[0m \u001b[0;34m\"8\"\u001b[0m\u001b[0;34m]\u001b[0m\u001b[0;34m)\u001b[0m\u001b[0;34m\u001b[0m\u001b[0;34m\u001b[0m\u001b[0m\n\u001b[0;32m----> 6\u001b[0;31m     \u001b[0mpath\u001b[0m \u001b[0;34m=\u001b[0m \u001b[0mbfsSearch\u001b[0m\u001b[0;34m(\u001b[0m\u001b[0minitial_state\u001b[0m\u001b[0;34m,\u001b[0m \u001b[0mgoal_state\u001b[0m\u001b[0;34m)\u001b[0m\u001b[0;34m\u001b[0m\u001b[0;34m\u001b[0m\u001b[0m\n\u001b[0m\u001b[1;32m      7\u001b[0m     \u001b[0mprint\u001b[0m\u001b[0;34m(\u001b[0m\u001b[0mpath\u001b[0m\u001b[0;34m)\u001b[0m\u001b[0;34m\u001b[0m\u001b[0;34m\u001b[0m\u001b[0m\n",
      "\u001b[0;32m<ipython-input-105-55d88822dd1b>\u001b[0m in \u001b[0;36mbfsSearch\u001b[0;34m(init_state, goal_state)\u001b[0m\n\u001b[1;32m     25\u001b[0m             \u001b[0;32mfor\u001b[0m \u001b[0mbranch\u001b[0m \u001b[0;32min\u001b[0m \u001b[0mbranches\u001b[0m\u001b[0;34m:\u001b[0m\u001b[0;34m\u001b[0m\u001b[0;34m\u001b[0m\u001b[0m\n\u001b[1;32m     26\u001b[0m                 \u001b[0mbranch_state\u001b[0m \u001b[0;34m=\u001b[0m \u001b[0mbranch\u001b[0m\u001b[0;34m.\u001b[0m\u001b[0mgetState\u001b[0m\u001b[0;34m(\u001b[0m\u001b[0;34m)\u001b[0m\u001b[0;34m\u001b[0m\u001b[0;34m\u001b[0m\u001b[0m\n\u001b[0;32m---> 27\u001b[0;31m                 \u001b[0mprint\u001b[0m\u001b[0;34m(\u001b[0m\u001b[0mbranch_state\u001b[0m \u001b[0;32min\u001b[0m \u001b[0mvisited_states\u001b[0m\u001b[0;34m)\u001b[0m\u001b[0;34m\u001b[0m\u001b[0;34m\u001b[0m\u001b[0m\n\u001b[0m\u001b[1;32m     28\u001b[0m                 \u001b[0;32mif\u001b[0m \u001b[0mbranch_state\u001b[0m \u001b[0;32min\u001b[0m \u001b[0mvisited_states\u001b[0m\u001b[0;34m:\u001b[0m\u001b[0;34m\u001b[0m\u001b[0;34m\u001b[0m\u001b[0m\n\u001b[1;32m     29\u001b[0m                     \u001b[0;31m#nodes.append(branch)\u001b[0m\u001b[0;34m\u001b[0m\u001b[0;34m\u001b[0m\u001b[0;34m\u001b[0m\u001b[0m\n",
      "\u001b[0;31mValueError\u001b[0m: The truth value of an array with more than one element is ambiguous. Use a.any() or a.all()"
     ]
    }
   ],
   "source": [
    "if __name__ == \"__main__\":\n",
    "    main()"
   ]
  },
  {
   "cell_type": "code",
   "execution_count": 107,
   "metadata": {},
   "outputs": [],
   "source": [
    "a = np.array([\"1\", \"2\"])\n",
    "b = np.array([\"8\", \"2\"])\n",
    "l = []\n",
    "l.append(a)\n",
    "l.append(b)"
   ]
  },
  {
   "cell_type": "code",
   "execution_count": 108,
   "metadata": {},
   "outputs": [
    {
     "output_type": "execute_result",
     "data": {
      "text/plain": [
       "[array(['1', '2'], dtype='<U1'), array(['8', '2'], dtype='<U1')]"
      ]
     },
     "metadata": {},
     "execution_count": 108
    }
   ],
   "source": [
    "l"
   ]
  },
  {
   "cell_type": "code",
   "execution_count": 109,
   "metadata": {},
   "outputs": [
    {
     "output_type": "execute_result",
     "data": {
      "text/plain": [
       "True"
      ]
     },
     "metadata": {},
     "execution_count": 109
    }
   ],
   "source": [
    "a in l"
   ]
  },
  {
   "cell_type": "code",
   "execution_count": null,
   "metadata": {},
   "outputs": [],
   "source": []
  }
 ]
}