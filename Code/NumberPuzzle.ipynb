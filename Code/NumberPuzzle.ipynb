{
 "metadata": {
  "language_info": {
   "codemirror_mode": {
    "name": "ipython",
    "version": 3
   },
   "file_extension": ".py",
   "mimetype": "text/x-python",
   "name": "python",
   "nbconvert_exporter": "python",
   "pygments_lexer": "ipython3",
   "version": "3.6.9-final"
  },
  "orig_nbformat": 2,
  "kernelspec": {
   "name": "python3",
   "display_name": "Python 3",
   "language": "python"
  }
 },
 "nbformat": 4,
 "nbformat_minor": 2,
 "cells": [
  {
   "cell_type": "code",
   "execution_count": 6,
   "metadata": {},
   "outputs": [],
   "source": [
    "import numpy as np"
   ]
  },
  {
   "cell_type": "code",
   "execution_count": 5,
   "metadata": {},
   "outputs": [],
   "source": [
    "class Node():\n",
    "    def __init__(self, state, parent, move, cost): \n",
    "\n",
    "        self.start = state\n",
    "        #self.goal = goal_state\n",
    "        self.parent = parent\n",
    "        self.move = move\n",
    "        self.cost = cost\n",
    "        \n",
    "    def getState(self):\n",
    "        return self.state\n",
    "\t\t\n",
    "    def getParent(self):\n",
    "        return self.parent\n",
    "\t\t\n",
    "    def getMove(self):\n",
    "\t    return self.move\n",
    "\t\t\n",
    "    def getCost(self):\n",
    "        return self.cost\n",
    "\n",
    "    def getFullPath(self):\n",
    "        \n",
    "        moves = []\n",
    "        current_node = self\n",
    "        while(current_node.getMove is not None):\n",
    "\n",
    "            moves.append(current_node.getMove)\n",
    "            current_node = current_node.getParent()\n",
    "\n",
    "        moves = moves.reverse()\n",
    "        return moves\n",
    "\n"
   ]
  },
  {
   "cell_type": "code",
   "execution_count": 7,
   "metadata": {},
   "outputs": [],
   "source": [
    "def getBranches(node):\n",
    "\n",
    "    moves = [\"up\", \"down\", \"left\", \"right\"]\n",
    "    branches = []\n",
    "    branches.append(Node(moveUp(node.getState()), node, moves[0], node.getCost() + 1))\n",
    "    branches.append(Node(moveDown(node.getState()), node, moves[1], node.getCost() + 1))\n",
    "    branches.append(Node(moveRight(node.getState()), node, moves[2], node.getCost() + 1))\n",
    "    branches.append(Node(moveLeft(node.getState()), node, moves[3], node.getCost() + 1))\n",
    "\n",
    "    #remove None nodes\n",
    "\n",
    "    return branches\n",
    "\n"
   ]
  },
  {
   "cell_type": "code",
   "execution_count": null,
   "metadata": {},
   "outputs": [],
   "source": [
    "def moveUp(state):\n",
    "    position = np.where(state, \"0\")\n",
    "    num_cols = 3\n",
    "    if position is not in [0, 1, 2]:\n",
    "        #can move up\n",
    "        #swap with the upper row\n",
    "        tmp = state[position]\n",
    "        state[position] = state[position - num_cols]\n",
    "        state[position - num_cols] = tmp\n",
    "        return state\n",
    "    else:\n",
    "        return None\n",
    "\n",
    "def moveDown(state):\n",
    "    position = np.where(state, \"0\")\n",
    "    num_cols = 3\n",
    "    if position is not in [6, 7, 8]:\n",
    "        #can move down\n",
    "        #swap with the lower row\n",
    "        tmp = state[position]\n",
    "        state[position] = state[position + num_cols]\n",
    "        state[position + num_cols] = tmp\n",
    "        return state\n",
    "    else:\n",
    "        return None\n",
    "\n",
    "def moveRight(state):\n",
    "    position = np.where(state, \"0\")\n",
    "    #num_rows = 3 \n",
    "    if position is not in [2, 5, 8]:\n",
    "        #can move right\n",
    "        #swap with the reft col\n",
    "        tmp = state[position]\n",
    "        state[position] = state[position + 1]\n",
    "        state[position + 1] = tmp\n",
    "        return state\n",
    "    else:\n",
    "        return None\n",
    "\n",
    "def moveLeft(state):\n",
    "    position = np.where(state, \"0\")\n",
    "    #num_rows = 3 \n",
    "    if position is not in [0, 3, 6]:\n",
    "        #can move left\n",
    "        #swap with the left col\n",
    "        tmp = state[position]\n",
    "        state[position] = state[position - 1]\n",
    "        state[position - 1] = tmp\n",
    "        return state\n",
    "    else:\n",
    "        return None"
   ]
  },
  {
   "cell_type": "code",
   "execution_count": null,
   "metadata": {},
   "outputs": [],
   "source": [
    "def bfsSearch(init_state, goal_state):\n",
    "    nodes = []\n",
    "    init_node = Node(init_state, None, None, 0)\n",
    "    nodes.append(init_node)\n",
    "\n",
    "    while(True):\n",
    "\n",
    "        current_node = nodes.pop()\n",
    "        if current_node.state = goal_state:\n",
    "            print(\"Goal Reached!\")\n",
    "            full_path = current_node.getFullPath()\n",
    "\n",
    "        else:\n",
    "\n",
    "\n"
   ]
  },
  {
   "cell_type": "code",
   "execution_count": null,
   "metadata": {},
   "outputs": [],
   "source": [
    "def main():\n",
    "    #get inital state\n",
    "    initial_state = []\n",
    "    #get goal state\n"
   ]
  },
  {
   "cell_type": "code",
   "execution_count": null,
   "metadata": {},
   "outputs": [],
   "source": [
    "if __name__ == \"__main__\":\n",
    "    main()"
   ]
  }
 ]
}